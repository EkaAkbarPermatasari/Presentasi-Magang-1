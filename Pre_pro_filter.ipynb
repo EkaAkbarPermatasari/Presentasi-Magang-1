{
 "cells": [
  {
   "attachments": {},
   "cell_type": "markdown",
   "metadata": {},
   "source": [
    "# PREPROCESING SEBELUM MALAKUKAN FILTER"
   ]
  },
  {
   "attachments": {},
   "cell_type": "markdown",
   "metadata": {},
   "source": [
    "####    Sebelum dilakukannya flter pada data, akan dilakukan terlebih dahulu preprocecing agar data yang sebelum masuk kedalam filter. Pada laporan ini akan dibahas terkait:\n",
    "      - menyatukan data MiniSEED \n",
    "      - membaca properti data\n",
    "      - malakukan resampling data\n",
    "      - memplot data\n",
    "      - melakukan detrend pada data\n",
    "      - melakukan trim pada data\n",
    "      - melakukan filter \n",
    "#### pada prepro ini tidak dilakukan instrument corection, spectral whitening, dan normalisasi karena akan dibahas pada laporan selanjutnya\n"
   ]
  },
  {
   "attachments": {},
   "cell_type": "markdown",
   "metadata": {},
   "source": [
    "### 1. Menyatukan data miniSEED (merging)"
   ]
  },
  {
   "attachments": {},
   "cell_type": "markdown",
   "metadata": {},
   "source": [
    "melakulan pemanggilan pada modul `obspy`"
   ]
  },
  {
   "cell_type": "code",
   "execution_count": 2,
   "metadata": {},
   "outputs": [],
   "source": [
    "import obspy as ob"
   ]
  },
  {
   "attachments": {},
   "cell_type": "markdown",
   "metadata": {},
   "source": [
    "membaca data pada file miniSEED pada ketiga komponen dengan komponen disimpan pada setiap variabel `data_1`, `data_2` dan `data_3`."
   ]
  },
  {
   "cell_type": "code",
   "execution_count": null,
   "metadata": {},
   "outputs": [],
   "source": [
    "data_1 = ob.read(\"the location of file miniSEED for Z component\")\n",
    "data_2 = ob.read(\"the location of file miniSEED for N component\")\n",
    "data_3 = ob.read(\"the location of file miniSEED for E component\")"
   ]
  },
  {
   "attachments": {},
   "cell_type": "markdown",
   "metadata": {},
   "source": [
    "memnjumlahkan data dan menyimpannya pada variabel `jumlah_data` dan kemudian memasukan fungsi `Stream` lalu menimpannya ke `stn` dan menuliskan nama file serta menentukan formatnya sebagai `MSEED`"
   ]
  },
  {
   "cell_type": "code",
   "execution_count": null,
   "metadata": {},
   "outputs": [],
   "source": [
    "jumlah_data = data_1 + data_2 + data_3\n",
    "stn = ob.Stream(jumlah_data)\n",
    "stn.write('nama_file_gabungan.mseed', format = \"MSEED\")"
   ]
  },
  {
   "attachments": {},
   "cell_type": "markdown",
   "metadata": {},
   "source": [
    "### 2. Membaca properti data"
   ]
  },
  {
   "attachments": {},
   "cell_type": "markdown",
   "metadata": {},
   "source": [
    "melakukan pembacaan pada file yang akan kita lihat propertinya, kemudian menggunakan `.stats` akan dibaca properti pada `data[0]` atau trace pertama"
   ]
  },
  {
   "cell_type": "code",
   "execution_count": null,
   "metadata": {},
   "outputs": [],
   "source": [
    "data = ob.read(\"nama_file_gabungan.mseed\")\n",
    "print(data[0].stats)"
   ]
  },
  {
   "attachments": {},
   "cell_type": "markdown",
   "metadata": {},
   "source": [
    "### 3. Resampling data"
   ]
  },
  {
   "attachments": {},
   "cell_type": "markdown",
   "metadata": {},
   "source": [
    "melakukan resampling adalah mengubah sample yang telah ada menjadi sample dengan nilai lain, dalam resampling ini tidak bisa di lakukan dengan memasukan nilai asal untuk sampel selanjutnya, namun dengan menggunakan aturan `Nyquest`\n",
    "\n",
    "untuk memebuat sampling baru atau resampling bisa digunakan fungsi `.resample`"
   ]
  },
  {
   "cell_type": "code",
   "execution_count": null,
   "metadata": {},
   "outputs": [],
   "source": [
    "data_resampling = data.resample(10)"
   ]
  },
  {
   "attachments": {},
   "cell_type": "markdown",
   "metadata": {},
   "source": [
    "### 4. Plot Data"
   ]
  },
  {
   "attachments": {},
   "cell_type": "markdown",
   "metadata": {},
   "source": [
    "memplot data dapat dilakukan selain menggunakan modul `matplotlib` yaitu dengan menggunakan modul `obspy` dengan fungsinya "
   ]
  },
  {
   "cell_type": "code",
   "execution_count": null,
   "metadata": {},
   "outputs": [],
   "source": [
    "data_resampling.plot()"
   ]
  },
  {
   "attachments": {},
   "cell_type": "markdown",
   "metadata": {},
   "source": [
    "### 5. Melakukan detrend pada Data\n"
   ]
  },
  {
   "attachments": {},
   "cell_type": "markdown",
   "metadata": {},
   "source": [
    "dalam detrend terdapat beberapa cara yang bisa dilakukan diantaranya adalah `linear`\n",
    "\n"
   ]
  },
  {
   "cell_type": "code",
   "execution_count": null,
   "metadata": {},
   "outputs": [],
   "source": [
    "data_detrend = data_resampling.detrend(\"linear\")"
   ]
  },
  {
   "attachments": {},
   "cell_type": "markdown",
   "metadata": {},
   "source": [
    "### 6. Melakukan Trim pada Data"
   ]
  },
  {
   "attachments": {},
   "cell_type": "markdown",
   "metadata": {},
   "source": [
    "untuk membuat pengolahan data semakin ringan dan untuk membuat data pada waktu dan tannggal yang spesifik maka dilakukan pemotogan data pada wakktu tertentu atau bisa disebut `trim`"
   ]
  },
  {
   "cell_type": "code",
   "execution_count": null,
   "metadata": {},
   "outputs": [],
   "source": [
    "start = ob.UTCDateTime(\"yyyy-mm-ddT00:00:00\")\n",
    "end = ob.UTCDateTime(\"yyyy-mm-ddT00:00:00\")\n",
    "data_trim = data_detrend.trim(starttime=start,endtime=end)"
   ]
  },
  {
   "attachments": {},
   "cell_type": "markdown",
   "metadata": {},
   "source": [
    "### 7. Melakukan Filter "
   ]
  },
  {
   "attachments": {},
   "cell_type": "markdown",
   "metadata": {},
   "source": [
    "setelah melakukan berbagai rangkaian data yag sudah ada bisa kita filter menggunakan `bandpass filter` atau `highpass filter` atau `lopass filter`, namun sebelum melakukan filter dta yang ada harus kita ubah menjadi domain frequency yang sebelumnya domain time "
   ]
  },
  {
   "cell_type": "code",
   "execution_count": null,
   "metadata": {},
   "outputs": [],
   "source": [
    "tr_copy= ()\n",
    "tr_copy.filter('bandpass', freqmin= 2, freqmax= 4)"
   ]
  },
  {
   "attachments": {},
   "cell_type": "markdown",
   "metadata": {},
   "source": []
  }
 ],
 "metadata": {
  "kernelspec": {
   "display_name": "Python 3",
   "language": "python",
   "name": "python3"
  },
  "language_info": {
   "codemirror_mode": {
    "name": "ipython",
    "version": 3
   },
   "file_extension": ".py",
   "mimetype": "text/x-python",
   "name": "python",
   "nbconvert_exporter": "python",
   "pygments_lexer": "ipython3",
   "version": "3.9.13"
  },
  "orig_nbformat": 4
 },
 "nbformat": 4,
 "nbformat_minor": 2
}
